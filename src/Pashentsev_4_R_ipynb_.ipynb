{
 "cells": [
  {
   "cell_type": "markdown",
   "metadata": {
    "id": "Scbkeoil4guF"
   },
   "source": [
    "## Устанавливаем необходимые пакеты и библиотеки"
   ]
  },
  {
   "cell_type": "code",
   "execution_count": 1,
   "metadata": {
    "colab": {
     "base_uri": "https://localhost:8080/"
    },
    "id": "XoIBgf5j9Neb",
    "outputId": "d8dbf495-3b24-4e83-c692-229ea9399ef2",
    "vscode": {
     "languageId": "r"
    }
   },
   "outputs": [
    {
     "name": "stderr",
     "output_type": "stream",
     "text": [
      "Installing package into ‘/usr/local/lib/R/site-library’\n",
      "(as ‘lib’ is unspecified)\n",
      "\n"
     ]
    }
   ],
   "source": [
    "if (!requireNamespace(\"BiocManager\", quietly = TRUE))\n",
    "  install.packages(\"BiocManager\")"
   ]
  },
  {
   "cell_type": "code",
   "execution_count": 2,
   "metadata": {
    "colab": {
     "base_uri": "https://localhost:8080/"
    },
    "id": "F7O0tqAa9h9q",
    "outputId": "6dd18b62-6af3-40ed-f94d-73b417a166ab",
    "vscode": {
     "languageId": "r"
    }
   },
   "outputs": [
    {
     "name": "stderr",
     "output_type": "stream",
     "text": [
      "'getOption(\"repos\")' replaces Bioconductor standard repositories, see\n",
      "'help(\"repositories\", package = \"BiocManager\")' for details.\n",
      "Replacement repositories:\n",
      "    CRAN: https://cran.rstudio.com\n",
      "\n",
      "Bioconductor version 3.20 (BiocManager 1.30.25), R 4.4.2 (2024-10-31)\n",
      "\n",
      "Installing package(s) 'BiocVersion', 'DESeq2'\n",
      "\n",
      "also installing the dependencies ‘formatR’, ‘UCSC.utils’, ‘GenomeInfoDbData’, ‘zlibbioc’, ‘abind’, ‘SparseArray’, ‘lambda.r’, ‘futile.options’, ‘GenomeInfoDb’, ‘XVector’, ‘S4Arrays’, ‘DelayedArray’, ‘futile.logger’, ‘snow’, ‘BH’, ‘S4Vectors’, ‘IRanges’, ‘GenomicRanges’, ‘SummarizedExperiment’, ‘BiocGenerics’, ‘Biobase’, ‘BiocParallel’, ‘matrixStats’, ‘locfit’, ‘MatrixGenerics’, ‘RcppArmadillo’\n",
      "\n",
      "\n"
     ]
    }
   ],
   "source": [
    "BiocManager::install(\"DESeq2\")"
   ]
  },
  {
   "cell_type": "code",
   "execution_count": 3,
   "metadata": {
    "colab": {
     "base_uri": "https://localhost:8080/"
    },
    "id": "x2qWzgkc-Dbq",
    "outputId": "b1315c22-258e-4210-a199-746283ee651b",
    "vscode": {
     "languageId": "r"
    }
   },
   "outputs": [
    {
     "name": "stderr",
     "output_type": "stream",
     "text": [
      "Installing package into ‘/usr/local/lib/R/site-library’\n",
      "(as ‘lib’ is unspecified)\n",
      "\n"
     ]
    }
   ],
   "source": [
    "install.packages(\"pheatmap\")"
   ]
  },
  {
   "cell_type": "code",
   "execution_count": 4,
   "metadata": {
    "colab": {
     "base_uri": "https://localhost:8080/"
    },
    "id": "IsJlShFE-FiX",
    "outputId": "b331037d-c71e-4b76-d7e1-5f0217edd16c",
    "vscode": {
     "languageId": "r"
    }
   },
   "outputs": [
    {
     "name": "stderr",
     "output_type": "stream",
     "text": [
      "Loading required package: S4Vectors\n",
      "\n",
      "Loading required package: stats4\n",
      "\n",
      "Loading required package: BiocGenerics\n",
      "\n",
      "\n",
      "Attaching package: ‘BiocGenerics’\n",
      "\n",
      "\n",
      "The following objects are masked from ‘package:stats’:\n",
      "\n",
      "    IQR, mad, sd, var, xtabs\n",
      "\n",
      "\n",
      "The following objects are masked from ‘package:base’:\n",
      "\n",
      "    anyDuplicated, aperm, append, as.data.frame, basename, cbind,\n",
      "    colnames, dirname, do.call, duplicated, eval, evalq, Filter, Find,\n",
      "    get, grep, grepl, intersect, is.unsorted, lapply, Map, mapply,\n",
      "    match, mget, order, paste, pmax, pmax.int, pmin, pmin.int,\n",
      "    Position, rank, rbind, Reduce, rownames, sapply, saveRDS, setdiff,\n",
      "    table, tapply, union, unique, unsplit, which.max, which.min\n",
      "\n",
      "\n",
      "\n",
      "Attaching package: ‘S4Vectors’\n",
      "\n",
      "\n",
      "The following object is masked from ‘package:utils’:\n",
      "\n",
      "    findMatches\n",
      "\n",
      "\n",
      "The following objects are masked from ‘package:base’:\n",
      "\n",
      "    expand.grid, I, unname\n",
      "\n",
      "\n",
      "Loading required package: IRanges\n",
      "\n",
      "Loading required package: GenomicRanges\n",
      "\n",
      "Loading required package: GenomeInfoDb\n",
      "\n",
      "Loading required package: SummarizedExperiment\n",
      "\n",
      "Loading required package: MatrixGenerics\n",
      "\n",
      "Loading required package: matrixStats\n",
      "\n",
      "\n",
      "Attaching package: ‘MatrixGenerics’\n",
      "\n",
      "\n",
      "The following objects are masked from ‘package:matrixStats’:\n",
      "\n",
      "    colAlls, colAnyNAs, colAnys, colAvgsPerRowSet, colCollapse,\n",
      "    colCounts, colCummaxs, colCummins, colCumprods, colCumsums,\n",
      "    colDiffs, colIQRDiffs, colIQRs, colLogSumExps, colMadDiffs,\n",
      "    colMads, colMaxs, colMeans2, colMedians, colMins, colOrderStats,\n",
      "    colProds, colQuantiles, colRanges, colRanks, colSdDiffs, colSds,\n",
      "    colSums2, colTabulates, colVarDiffs, colVars, colWeightedMads,\n",
      "    colWeightedMeans, colWeightedMedians, colWeightedSds,\n",
      "    colWeightedVars, rowAlls, rowAnyNAs, rowAnys, rowAvgsPerColSet,\n",
      "    rowCollapse, rowCounts, rowCummaxs, rowCummins, rowCumprods,\n",
      "    rowCumsums, rowDiffs, rowIQRDiffs, rowIQRs, rowLogSumExps,\n",
      "    rowMadDiffs, rowMads, rowMaxs, rowMeans2, rowMedians, rowMins,\n",
      "    rowOrderStats, rowProds, rowQuantiles, rowRanges, rowRanks,\n",
      "    rowSdDiffs, rowSds, rowSums2, rowTabulates, rowVarDiffs, rowVars,\n",
      "    rowWeightedMads, rowWeightedMeans, rowWeightedMedians,\n",
      "    rowWeightedSds, rowWeightedVars\n",
      "\n",
      "\n",
      "Loading required package: Biobase\n",
      "\n",
      "Welcome to Bioconductor\n",
      "\n",
      "    Vignettes contain introductory material; view with\n",
      "    'browseVignettes()'. To cite Bioconductor, see\n",
      "    'citation(\"Biobase\")', and for packages 'citation(\"pkgname\")'.\n",
      "\n",
      "\n",
      "\n",
      "Attaching package: ‘Biobase’\n",
      "\n",
      "\n",
      "The following object is masked from ‘package:MatrixGenerics’:\n",
      "\n",
      "    rowMedians\n",
      "\n",
      "\n",
      "The following objects are masked from ‘package:matrixStats’:\n",
      "\n",
      "    anyMissing, rowMedians\n",
      "\n",
      "\n"
     ]
    }
   ],
   "source": [
    "library(\"DESeq2\")\n",
    "library(\"pheatmap\")"
   ]
  },
  {
   "cell_type": "markdown",
   "metadata": {
    "id": "4tBaVg_w5e-x"
   },
   "source": [
    "##Считываем файл с чтениями в info и преобразуем в матрицу в counts"
   ]
  },
  {
   "cell_type": "code",
   "execution_count": 9,
   "metadata": {
    "colab": {
     "base_uri": "https://localhost:8080/",
     "height": 1000
    },
    "id": "TFugwZASEfMR",
    "outputId": "33cf5410-5ef3-4d5e-b869-bac981e0bf2b",
    "vscode": {
     "languageId": "r"
    }
   },
   "outputs": [
    {
     "data": {
      "text/html": [
       "<table class=\"dataframe\">\n",
       "<caption>A matrix: 55401 × 6 of type int</caption>\n",
       "<thead>\n",
       "\t<tr><th></th><th scope=col>c1</th><th scope=col>c2</th><th scope=col>c3</th><th scope=col>r1</th><th scope=col>r2</th><th scope=col>r3</th></tr>\n",
       "</thead>\n",
       "<tbody>\n",
       "\t<tr><th scope=row>ENSMUSG00000000001.4</th><td> 3466</td><td> 3532</td><td> 4078</td><td> 4507</td><td> 3964</td><td> 5757</td></tr>\n",
       "\t<tr><th scope=row>ENSMUSG00000000003.15</th><td>    0</td><td>    0</td><td>    0</td><td>    0</td><td>    0</td><td>    0</td></tr>\n",
       "\t<tr><th scope=row>ENSMUSG00000000028.15</th><td>  152</td><td>  137</td><td>  152</td><td>  348</td><td>  275</td><td>  472</td></tr>\n",
       "\t<tr><th scope=row>ENSMUSG00000000031.16</th><td>55721</td><td>48392</td><td>56187</td><td>64722</td><td>33333</td><td>65188</td></tr>\n",
       "\t<tr><th scope=row>ENSMUSG00000000037.17</th><td>   43</td><td>   44</td><td>   53</td><td>   79</td><td>   70</td><td>   92</td></tr>\n",
       "\t<tr><th scope=row>ENSMUSG00000000049.11</th><td>   10</td><td>    8</td><td>   11</td><td>    4</td><td>    1</td><td>    1</td></tr>\n",
       "\t<tr><th scope=row>ENSMUSG00000000056.7</th><td>  730</td><td>  706</td><td>  679</td><td>  650</td><td>  439</td><td>  716</td></tr>\n",
       "\t<tr><th scope=row>ENSMUSG00000000058.6</th><td> 1465</td><td> 1439</td><td> 1812</td><td> 1022</td><td> 1003</td><td> 1196</td></tr>\n",
       "\t<tr><th scope=row>ENSMUSG00000000078.7</th><td> 5197</td><td> 5432</td><td> 5567</td><td> 4513</td><td> 3271</td><td> 5056</td></tr>\n",
       "\t<tr><th scope=row>ENSMUSG00000000085.16</th><td>  804</td><td>  732</td><td>  657</td><td>  700</td><td>  440</td><td>  780</td></tr>\n",
       "\t<tr><th scope=row>ENSMUSG00000000088.7</th><td>  615</td><td>  595</td><td>  539</td><td>  884</td><td>  512</td><td> 1116</td></tr>\n",
       "\t<tr><th scope=row>ENSMUSG00000000093.6</th><td>  123</td><td>  115</td><td>   88</td><td>  156</td><td>   37</td><td>   94</td></tr>\n",
       "\t<tr><th scope=row>ENSMUSG00000000094.12</th><td>  485</td><td>  374</td><td>  400</td><td>  636</td><td>  312</td><td>  564</td></tr>\n",
       "\t<tr><th scope=row>ENSMUSG00000000103.12</th><td>    0</td><td>    0</td><td>    0</td><td>    0</td><td>    0</td><td>    0</td></tr>\n",
       "\t<tr><th scope=row>ENSMUSG00000000120.6</th><td>   13</td><td>   14</td><td>    9</td><td>  428</td><td>  359</td><td>  682</td></tr>\n",
       "\t<tr><th scope=row>ENSMUSG00000000125.5</th><td>    0</td><td>    0</td><td>    0</td><td>    0</td><td>    0</td><td>    1</td></tr>\n",
       "\t<tr><th scope=row>ENSMUSG00000000126.11</th><td>  164</td><td>  169</td><td>  150</td><td>  191</td><td>   90</td><td>  194</td></tr>\n",
       "\t<tr><th scope=row>ENSMUSG00000000127.15</th><td>  714</td><td>  681</td><td>  772</td><td>  659</td><td>  551</td><td>  804</td></tr>\n",
       "\t<tr><th scope=row>ENSMUSG00000000131.15</th><td> 1939</td><td> 1915</td><td> 1545</td><td> 2602</td><td> 1464</td><td> 2786</td></tr>\n",
       "\t<tr><th scope=row>ENSMUSG00000000134.17</th><td> 1228</td><td> 1145</td><td> 1021</td><td> 1372</td><td>  945</td><td> 1700</td></tr>\n",
       "\t<tr><th scope=row>ENSMUSG00000000142.15</th><td>  122</td><td>  123</td><td>   99</td><td>  327</td><td>  207</td><td>  356</td></tr>\n",
       "\t<tr><th scope=row>ENSMUSG00000000148.17</th><td>  407</td><td>  387</td><td>  284</td><td>  410</td><td>  235</td><td>  444</td></tr>\n",
       "\t<tr><th scope=row>ENSMUSG00000000149.10</th><td> 1200</td><td> 1163</td><td>  916</td><td> 1164</td><td>  671</td><td> 1223</td></tr>\n",
       "\t<tr><th scope=row>ENSMUSG00000000154.16</th><td>  139</td><td>  125</td><td>  109</td><td>  111</td><td>   70</td><td>  148</td></tr>\n",
       "\t<tr><th scope=row>ENSMUSG00000000157.16</th><td>    0</td><td>    0</td><td>    0</td><td>    0</td><td>    0</td><td>    0</td></tr>\n",
       "\t<tr><th scope=row>ENSMUSG00000000159.16</th><td>    0</td><td>    1</td><td>    0</td><td>    2</td><td>    1</td><td>    3</td></tr>\n",
       "\t<tr><th scope=row>ENSMUSG00000000167.14</th><td>   18</td><td>   22</td><td>   33</td><td>   33</td><td>   26</td><td>   20</td></tr>\n",
       "\t<tr><th scope=row>ENSMUSG00000000168.9</th><td> 1399</td><td> 1354</td><td> 1458</td><td> 1603</td><td> 1328</td><td> 1972</td></tr>\n",
       "\t<tr><th scope=row>ENSMUSG00000000171.5</th><td> 1535</td><td> 1518</td><td> 1676</td><td> 1777</td><td> 1448</td><td> 2124</td></tr>\n",
       "\t<tr><th scope=row>ENSMUSG00000000182.9</th><td>    1</td><td>    1</td><td>    0</td><td>    3</td><td>    0</td><td>    1</td></tr>\n",
       "\t<tr><th scope=row>⋮</th><td>⋮</td><td>⋮</td><td>⋮</td><td>⋮</td><td>⋮</td><td>⋮</td></tr>\n",
       "\t<tr><th scope=row>ENSMUSG00000118630.1</th><td>  0</td><td>  0</td><td>  0</td><td>  0</td><td>  0</td><td>  0</td></tr>\n",
       "\t<tr><th scope=row>ENSMUSG00000118631.1</th><td>  0</td><td>  0</td><td>  0</td><td>  0</td><td>  0</td><td>  0</td></tr>\n",
       "\t<tr><th scope=row>ENSMUSG00000118632.1</th><td>  0</td><td>  0</td><td>  0</td><td>  0</td><td>  0</td><td>  0</td></tr>\n",
       "\t<tr><th scope=row>ENSMUSG00000118633.1</th><td>  0</td><td>  0</td><td>  0</td><td>  0</td><td>  0</td><td>  0</td></tr>\n",
       "\t<tr><th scope=row>ENSMUSG00000118634.1</th><td>  0</td><td>  0</td><td>  0</td><td>  0</td><td>  0</td><td>  0</td></tr>\n",
       "\t<tr><th scope=row>ENSMUSG00000118635.1</th><td>  0</td><td>  0</td><td>  0</td><td>  4</td><td>  1</td><td>  1</td></tr>\n",
       "\t<tr><th scope=row>ENSMUSG00000118636.1</th><td>  0</td><td>  4</td><td>  9</td><td>  2</td><td>  6</td><td>  7</td></tr>\n",
       "\t<tr><th scope=row>ENSMUSG00000118637.1</th><td>  0</td><td>  0</td><td>  0</td><td>  0</td><td>  0</td><td>  0</td></tr>\n",
       "\t<tr><th scope=row>ENSMUSG00000118638.1</th><td>  0</td><td>  0</td><td>  0</td><td>  0</td><td>  1</td><td>  1</td></tr>\n",
       "\t<tr><th scope=row>ENSMUSG00000118639.1</th><td>  0</td><td>  0</td><td>  0</td><td>  0</td><td>  0</td><td>  0</td></tr>\n",
       "\t<tr><th scope=row>ENSMUSG00000118640.1</th><td>  0</td><td>  0</td><td>  0</td><td>  0</td><td>  0</td><td>  0</td></tr>\n",
       "\t<tr><th scope=row>ENSMUSG00000118641.1</th><td>  0</td><td>  0</td><td>  0</td><td>  1</td><td>  0</td><td>  1</td></tr>\n",
       "\t<tr><th scope=row>ENSMUSG00000118642.1</th><td>312</td><td>296</td><td>208</td><td>466</td><td>196</td><td>528</td></tr>\n",
       "\t<tr><th scope=row>ENSMUSG00000118643.1</th><td>  0</td><td>  0</td><td>  0</td><td>  0</td><td>  0</td><td>  1</td></tr>\n",
       "\t<tr><th scope=row>ENSMUSG00000118644.1</th><td>  0</td><td>  0</td><td>  0</td><td>  0</td><td>  0</td><td>  0</td></tr>\n",
       "\t<tr><th scope=row>ENSMUSG00000118645.1</th><td>  0</td><td>  0</td><td>  0</td><td>  0</td><td>  0</td><td>  0</td></tr>\n",
       "\t<tr><th scope=row>ENSMUSG00000118646.1</th><td>  0</td><td>  0</td><td>  0</td><td>  0</td><td>  0</td><td>  0</td></tr>\n",
       "\t<tr><th scope=row>ENSMUSG00000118647.1</th><td>  0</td><td>  0</td><td>  0</td><td>  0</td><td>  0</td><td>  0</td></tr>\n",
       "\t<tr><th scope=row>ENSMUSG00000118648.1</th><td>  0</td><td>  0</td><td>  0</td><td>  0</td><td>  0</td><td>  0</td></tr>\n",
       "\t<tr><th scope=row>ENSMUSG00000118649.1</th><td>  0</td><td>  0</td><td>  0</td><td>  0</td><td>  0</td><td>  0</td></tr>\n",
       "\t<tr><th scope=row>ENSMUSG00000118650.1</th><td>  0</td><td>  0</td><td>  0</td><td>  0</td><td>  0</td><td>  0</td></tr>\n",
       "\t<tr><th scope=row>ENSMUSG00000118651.1</th><td> 11</td><td> 14</td><td> 12</td><td>  7</td><td>  3</td><td>  5</td></tr>\n",
       "\t<tr><th scope=row>ENSMUSG00000118652.1</th><td>  0</td><td>  0</td><td>  0</td><td>  0</td><td>  0</td><td>  0</td></tr>\n",
       "\t<tr><th scope=row>ENSMUSG00000118653.1</th><td>  1</td><td>  1</td><td>  7</td><td>  5</td><td>  2</td><td>  7</td></tr>\n",
       "\t<tr><th scope=row>ENSMUSG00000118654.1</th><td>  0</td><td>  0</td><td>  0</td><td>  1</td><td>  0</td><td>  0</td></tr>\n",
       "\t<tr><th scope=row>ENSMUSG00000118655.1</th><td>  0</td><td>  0</td><td>  0</td><td>  0</td><td>  1</td><td>  1</td></tr>\n",
       "\t<tr><th scope=row>ENSMUSG00000118656.1</th><td>  0</td><td>  0</td><td>  0</td><td>  0</td><td>  0</td><td>  0</td></tr>\n",
       "\t<tr><th scope=row>ENSMUSG00000118657.1</th><td>  0</td><td>  1</td><td>  0</td><td>  2</td><td>  0</td><td>  4</td></tr>\n",
       "\t<tr><th scope=row>ENSMUSG00000118658.1</th><td>  0</td><td>  0</td><td>  0</td><td>  0</td><td>  0</td><td>  0</td></tr>\n",
       "\t<tr><th scope=row>ENSMUSG00000118659.1</th><td>  0</td><td>  0</td><td>  0</td><td>  0</td><td>  0</td><td>  0</td></tr>\n",
       "</tbody>\n",
       "</table>\n"
      ],
      "text/latex": [
       "A matrix: 55401 × 6 of type int\n",
       "\\begin{tabular}{r|llllll}\n",
       "  & c1 & c2 & c3 & r1 & r2 & r3\\\\\n",
       "\\hline\n",
       "\tENSMUSG00000000001.4 &  3466 &  3532 &  4078 &  4507 &  3964 &  5757\\\\\n",
       "\tENSMUSG00000000003.15 &     0 &     0 &     0 &     0 &     0 &     0\\\\\n",
       "\tENSMUSG00000000028.15 &   152 &   137 &   152 &   348 &   275 &   472\\\\\n",
       "\tENSMUSG00000000031.16 & 55721 & 48392 & 56187 & 64722 & 33333 & 65188\\\\\n",
       "\tENSMUSG00000000037.17 &    43 &    44 &    53 &    79 &    70 &    92\\\\\n",
       "\tENSMUSG00000000049.11 &    10 &     8 &    11 &     4 &     1 &     1\\\\\n",
       "\tENSMUSG00000000056.7 &   730 &   706 &   679 &   650 &   439 &   716\\\\\n",
       "\tENSMUSG00000000058.6 &  1465 &  1439 &  1812 &  1022 &  1003 &  1196\\\\\n",
       "\tENSMUSG00000000078.7 &  5197 &  5432 &  5567 &  4513 &  3271 &  5056\\\\\n",
       "\tENSMUSG00000000085.16 &   804 &   732 &   657 &   700 &   440 &   780\\\\\n",
       "\tENSMUSG00000000088.7 &   615 &   595 &   539 &   884 &   512 &  1116\\\\\n",
       "\tENSMUSG00000000093.6 &   123 &   115 &    88 &   156 &    37 &    94\\\\\n",
       "\tENSMUSG00000000094.12 &   485 &   374 &   400 &   636 &   312 &   564\\\\\n",
       "\tENSMUSG00000000103.12 &     0 &     0 &     0 &     0 &     0 &     0\\\\\n",
       "\tENSMUSG00000000120.6 &    13 &    14 &     9 &   428 &   359 &   682\\\\\n",
       "\tENSMUSG00000000125.5 &     0 &     0 &     0 &     0 &     0 &     1\\\\\n",
       "\tENSMUSG00000000126.11 &   164 &   169 &   150 &   191 &    90 &   194\\\\\n",
       "\tENSMUSG00000000127.15 &   714 &   681 &   772 &   659 &   551 &   804\\\\\n",
       "\tENSMUSG00000000131.15 &  1939 &  1915 &  1545 &  2602 &  1464 &  2786\\\\\n",
       "\tENSMUSG00000000134.17 &  1228 &  1145 &  1021 &  1372 &   945 &  1700\\\\\n",
       "\tENSMUSG00000000142.15 &   122 &   123 &    99 &   327 &   207 &   356\\\\\n",
       "\tENSMUSG00000000148.17 &   407 &   387 &   284 &   410 &   235 &   444\\\\\n",
       "\tENSMUSG00000000149.10 &  1200 &  1163 &   916 &  1164 &   671 &  1223\\\\\n",
       "\tENSMUSG00000000154.16 &   139 &   125 &   109 &   111 &    70 &   148\\\\\n",
       "\tENSMUSG00000000157.16 &     0 &     0 &     0 &     0 &     0 &     0\\\\\n",
       "\tENSMUSG00000000159.16 &     0 &     1 &     0 &     2 &     1 &     3\\\\\n",
       "\tENSMUSG00000000167.14 &    18 &    22 &    33 &    33 &    26 &    20\\\\\n",
       "\tENSMUSG00000000168.9 &  1399 &  1354 &  1458 &  1603 &  1328 &  1972\\\\\n",
       "\tENSMUSG00000000171.5 &  1535 &  1518 &  1676 &  1777 &  1448 &  2124\\\\\n",
       "\tENSMUSG00000000182.9 &     1 &     1 &     0 &     3 &     0 &     1\\\\\n",
       "\t⋮ & ⋮ & ⋮ & ⋮ & ⋮ & ⋮ & ⋮\\\\\n",
       "\tENSMUSG00000118630.1 &   0 &   0 &   0 &   0 &   0 &   0\\\\\n",
       "\tENSMUSG00000118631.1 &   0 &   0 &   0 &   0 &   0 &   0\\\\\n",
       "\tENSMUSG00000118632.1 &   0 &   0 &   0 &   0 &   0 &   0\\\\\n",
       "\tENSMUSG00000118633.1 &   0 &   0 &   0 &   0 &   0 &   0\\\\\n",
       "\tENSMUSG00000118634.1 &   0 &   0 &   0 &   0 &   0 &   0\\\\\n",
       "\tENSMUSG00000118635.1 &   0 &   0 &   0 &   4 &   1 &   1\\\\\n",
       "\tENSMUSG00000118636.1 &   0 &   4 &   9 &   2 &   6 &   7\\\\\n",
       "\tENSMUSG00000118637.1 &   0 &   0 &   0 &   0 &   0 &   0\\\\\n",
       "\tENSMUSG00000118638.1 &   0 &   0 &   0 &   0 &   1 &   1\\\\\n",
       "\tENSMUSG00000118639.1 &   0 &   0 &   0 &   0 &   0 &   0\\\\\n",
       "\tENSMUSG00000118640.1 &   0 &   0 &   0 &   0 &   0 &   0\\\\\n",
       "\tENSMUSG00000118641.1 &   0 &   0 &   0 &   1 &   0 &   1\\\\\n",
       "\tENSMUSG00000118642.1 & 312 & 296 & 208 & 466 & 196 & 528\\\\\n",
       "\tENSMUSG00000118643.1 &   0 &   0 &   0 &   0 &   0 &   1\\\\\n",
       "\tENSMUSG00000118644.1 &   0 &   0 &   0 &   0 &   0 &   0\\\\\n",
       "\tENSMUSG00000118645.1 &   0 &   0 &   0 &   0 &   0 &   0\\\\\n",
       "\tENSMUSG00000118646.1 &   0 &   0 &   0 &   0 &   0 &   0\\\\\n",
       "\tENSMUSG00000118647.1 &   0 &   0 &   0 &   0 &   0 &   0\\\\\n",
       "\tENSMUSG00000118648.1 &   0 &   0 &   0 &   0 &   0 &   0\\\\\n",
       "\tENSMUSG00000118649.1 &   0 &   0 &   0 &   0 &   0 &   0\\\\\n",
       "\tENSMUSG00000118650.1 &   0 &   0 &   0 &   0 &   0 &   0\\\\\n",
       "\tENSMUSG00000118651.1 &  11 &  14 &  12 &   7 &   3 &   5\\\\\n",
       "\tENSMUSG00000118652.1 &   0 &   0 &   0 &   0 &   0 &   0\\\\\n",
       "\tENSMUSG00000118653.1 &   1 &   1 &   7 &   5 &   2 &   7\\\\\n",
       "\tENSMUSG00000118654.1 &   0 &   0 &   0 &   1 &   0 &   0\\\\\n",
       "\tENSMUSG00000118655.1 &   0 &   0 &   0 &   0 &   1 &   1\\\\\n",
       "\tENSMUSG00000118656.1 &   0 &   0 &   0 &   0 &   0 &   0\\\\\n",
       "\tENSMUSG00000118657.1 &   0 &   1 &   0 &   2 &   0 &   4\\\\\n",
       "\tENSMUSG00000118658.1 &   0 &   0 &   0 &   0 &   0 &   0\\\\\n",
       "\tENSMUSG00000118659.1 &   0 &   0 &   0 &   0 &   0 &   0\\\\\n",
       "\\end{tabular}\n"
      ],
      "text/markdown": [
       "\n",
       "A matrix: 55401 × 6 of type int\n",
       "\n",
       "| <!--/--> | c1 | c2 | c3 | r1 | r2 | r3 |\n",
       "|---|---|---|---|---|---|---|\n",
       "| ENSMUSG00000000001.4 |  3466 |  3532 |  4078 |  4507 |  3964 |  5757 |\n",
       "| ENSMUSG00000000003.15 |     0 |     0 |     0 |     0 |     0 |     0 |\n",
       "| ENSMUSG00000000028.15 |   152 |   137 |   152 |   348 |   275 |   472 |\n",
       "| ENSMUSG00000000031.16 | 55721 | 48392 | 56187 | 64722 | 33333 | 65188 |\n",
       "| ENSMUSG00000000037.17 |    43 |    44 |    53 |    79 |    70 |    92 |\n",
       "| ENSMUSG00000000049.11 |    10 |     8 |    11 |     4 |     1 |     1 |\n",
       "| ENSMUSG00000000056.7 |   730 |   706 |   679 |   650 |   439 |   716 |\n",
       "| ENSMUSG00000000058.6 |  1465 |  1439 |  1812 |  1022 |  1003 |  1196 |\n",
       "| ENSMUSG00000000078.7 |  5197 |  5432 |  5567 |  4513 |  3271 |  5056 |\n",
       "| ENSMUSG00000000085.16 |   804 |   732 |   657 |   700 |   440 |   780 |\n",
       "| ENSMUSG00000000088.7 |   615 |   595 |   539 |   884 |   512 |  1116 |\n",
       "| ENSMUSG00000000093.6 |   123 |   115 |    88 |   156 |    37 |    94 |\n",
       "| ENSMUSG00000000094.12 |   485 |   374 |   400 |   636 |   312 |   564 |\n",
       "| ENSMUSG00000000103.12 |     0 |     0 |     0 |     0 |     0 |     0 |\n",
       "| ENSMUSG00000000120.6 |    13 |    14 |     9 |   428 |   359 |   682 |\n",
       "| ENSMUSG00000000125.5 |     0 |     0 |     0 |     0 |     0 |     1 |\n",
       "| ENSMUSG00000000126.11 |   164 |   169 |   150 |   191 |    90 |   194 |\n",
       "| ENSMUSG00000000127.15 |   714 |   681 |   772 |   659 |   551 |   804 |\n",
       "| ENSMUSG00000000131.15 |  1939 |  1915 |  1545 |  2602 |  1464 |  2786 |\n",
       "| ENSMUSG00000000134.17 |  1228 |  1145 |  1021 |  1372 |   945 |  1700 |\n",
       "| ENSMUSG00000000142.15 |   122 |   123 |    99 |   327 |   207 |   356 |\n",
       "| ENSMUSG00000000148.17 |   407 |   387 |   284 |   410 |   235 |   444 |\n",
       "| ENSMUSG00000000149.10 |  1200 |  1163 |   916 |  1164 |   671 |  1223 |\n",
       "| ENSMUSG00000000154.16 |   139 |   125 |   109 |   111 |    70 |   148 |\n",
       "| ENSMUSG00000000157.16 |     0 |     0 |     0 |     0 |     0 |     0 |\n",
       "| ENSMUSG00000000159.16 |     0 |     1 |     0 |     2 |     1 |     3 |\n",
       "| ENSMUSG00000000167.14 |    18 |    22 |    33 |    33 |    26 |    20 |\n",
       "| ENSMUSG00000000168.9 |  1399 |  1354 |  1458 |  1603 |  1328 |  1972 |\n",
       "| ENSMUSG00000000171.5 |  1535 |  1518 |  1676 |  1777 |  1448 |  2124 |\n",
       "| ENSMUSG00000000182.9 |     1 |     1 |     0 |     3 |     0 |     1 |\n",
       "| ⋮ | ⋮ | ⋮ | ⋮ | ⋮ | ⋮ | ⋮ |\n",
       "| ENSMUSG00000118630.1 |   0 |   0 |   0 |   0 |   0 |   0 |\n",
       "| ENSMUSG00000118631.1 |   0 |   0 |   0 |   0 |   0 |   0 |\n",
       "| ENSMUSG00000118632.1 |   0 |   0 |   0 |   0 |   0 |   0 |\n",
       "| ENSMUSG00000118633.1 |   0 |   0 |   0 |   0 |   0 |   0 |\n",
       "| ENSMUSG00000118634.1 |   0 |   0 |   0 |   0 |   0 |   0 |\n",
       "| ENSMUSG00000118635.1 |   0 |   0 |   0 |   4 |   1 |   1 |\n",
       "| ENSMUSG00000118636.1 |   0 |   4 |   9 |   2 |   6 |   7 |\n",
       "| ENSMUSG00000118637.1 |   0 |   0 |   0 |   0 |   0 |   0 |\n",
       "| ENSMUSG00000118638.1 |   0 |   0 |   0 |   0 |   1 |   1 |\n",
       "| ENSMUSG00000118639.1 |   0 |   0 |   0 |   0 |   0 |   0 |\n",
       "| ENSMUSG00000118640.1 |   0 |   0 |   0 |   0 |   0 |   0 |\n",
       "| ENSMUSG00000118641.1 |   0 |   0 |   0 |   1 |   0 |   1 |\n",
       "| ENSMUSG00000118642.1 | 312 | 296 | 208 | 466 | 196 | 528 |\n",
       "| ENSMUSG00000118643.1 |   0 |   0 |   0 |   0 |   0 |   1 |\n",
       "| ENSMUSG00000118644.1 |   0 |   0 |   0 |   0 |   0 |   0 |\n",
       "| ENSMUSG00000118645.1 |   0 |   0 |   0 |   0 |   0 |   0 |\n",
       "| ENSMUSG00000118646.1 |   0 |   0 |   0 |   0 |   0 |   0 |\n",
       "| ENSMUSG00000118647.1 |   0 |   0 |   0 |   0 |   0 |   0 |\n",
       "| ENSMUSG00000118648.1 |   0 |   0 |   0 |   0 |   0 |   0 |\n",
       "| ENSMUSG00000118649.1 |   0 |   0 |   0 |   0 |   0 |   0 |\n",
       "| ENSMUSG00000118650.1 |   0 |   0 |   0 |   0 |   0 |   0 |\n",
       "| ENSMUSG00000118651.1 |  11 |  14 |  12 |   7 |   3 |   5 |\n",
       "| ENSMUSG00000118652.1 |   0 |   0 |   0 |   0 |   0 |   0 |\n",
       "| ENSMUSG00000118653.1 |   1 |   1 |   7 |   5 |   2 |   7 |\n",
       "| ENSMUSG00000118654.1 |   0 |   0 |   0 |   1 |   0 |   0 |\n",
       "| ENSMUSG00000118655.1 |   0 |   0 |   0 |   0 |   1 |   1 |\n",
       "| ENSMUSG00000118656.1 |   0 |   0 |   0 |   0 |   0 |   0 |\n",
       "| ENSMUSG00000118657.1 |   0 |   1 |   0 |   2 |   0 |   4 |\n",
       "| ENSMUSG00000118658.1 |   0 |   0 |   0 |   0 |   0 |   0 |\n",
       "| ENSMUSG00000118659.1 |   0 |   0 |   0 |   0 |   0 |   0 |\n",
       "\n"
      ],
      "text/plain": [
       "                      c1    c2    c3    r1    r2    r3   \n",
       "ENSMUSG00000000001.4   3466  3532  4078  4507  3964  5757\n",
       "ENSMUSG00000000003.15     0     0     0     0     0     0\n",
       "ENSMUSG00000000028.15   152   137   152   348   275   472\n",
       "ENSMUSG00000000031.16 55721 48392 56187 64722 33333 65188\n",
       "ENSMUSG00000000037.17    43    44    53    79    70    92\n",
       "ENSMUSG00000000049.11    10     8    11     4     1     1\n",
       "ENSMUSG00000000056.7    730   706   679   650   439   716\n",
       "ENSMUSG00000000058.6   1465  1439  1812  1022  1003  1196\n",
       "ENSMUSG00000000078.7   5197  5432  5567  4513  3271  5056\n",
       "ENSMUSG00000000085.16   804   732   657   700   440   780\n",
       "ENSMUSG00000000088.7    615   595   539   884   512  1116\n",
       "ENSMUSG00000000093.6    123   115    88   156    37    94\n",
       "ENSMUSG00000000094.12   485   374   400   636   312   564\n",
       "ENSMUSG00000000103.12     0     0     0     0     0     0\n",
       "ENSMUSG00000000120.6     13    14     9   428   359   682\n",
       "ENSMUSG00000000125.5      0     0     0     0     0     1\n",
       "ENSMUSG00000000126.11   164   169   150   191    90   194\n",
       "ENSMUSG00000000127.15   714   681   772   659   551   804\n",
       "ENSMUSG00000000131.15  1939  1915  1545  2602  1464  2786\n",
       "ENSMUSG00000000134.17  1228  1145  1021  1372   945  1700\n",
       "ENSMUSG00000000142.15   122   123    99   327   207   356\n",
       "ENSMUSG00000000148.17   407   387   284   410   235   444\n",
       "ENSMUSG00000000149.10  1200  1163   916  1164   671  1223\n",
       "ENSMUSG00000000154.16   139   125   109   111    70   148\n",
       "ENSMUSG00000000157.16     0     0     0     0     0     0\n",
       "ENSMUSG00000000159.16     0     1     0     2     1     3\n",
       "ENSMUSG00000000167.14    18    22    33    33    26    20\n",
       "ENSMUSG00000000168.9   1399  1354  1458  1603  1328  1972\n",
       "ENSMUSG00000000171.5   1535  1518  1676  1777  1448  2124\n",
       "ENSMUSG00000000182.9      1     1     0     3     0     1\n",
       "⋮                     ⋮     ⋮     ⋮     ⋮     ⋮     ⋮    \n",
       "ENSMUSG00000118630.1    0     0     0     0     0     0  \n",
       "ENSMUSG00000118631.1    0     0     0     0     0     0  \n",
       "ENSMUSG00000118632.1    0     0     0     0     0     0  \n",
       "ENSMUSG00000118633.1    0     0     0     0     0     0  \n",
       "ENSMUSG00000118634.1    0     0     0     0     0     0  \n",
       "ENSMUSG00000118635.1    0     0     0     4     1     1  \n",
       "ENSMUSG00000118636.1    0     4     9     2     6     7  \n",
       "ENSMUSG00000118637.1    0     0     0     0     0     0  \n",
       "ENSMUSG00000118638.1    0     0     0     0     1     1  \n",
       "ENSMUSG00000118639.1    0     0     0     0     0     0  \n",
       "ENSMUSG00000118640.1    0     0     0     0     0     0  \n",
       "ENSMUSG00000118641.1    0     0     0     1     0     1  \n",
       "ENSMUSG00000118642.1  312   296   208   466   196   528  \n",
       "ENSMUSG00000118643.1    0     0     0     0     0     1  \n",
       "ENSMUSG00000118644.1    0     0     0     0     0     0  \n",
       "ENSMUSG00000118645.1    0     0     0     0     0     0  \n",
       "ENSMUSG00000118646.1    0     0     0     0     0     0  \n",
       "ENSMUSG00000118647.1    0     0     0     0     0     0  \n",
       "ENSMUSG00000118648.1    0     0     0     0     0     0  \n",
       "ENSMUSG00000118649.1    0     0     0     0     0     0  \n",
       "ENSMUSG00000118650.1    0     0     0     0     0     0  \n",
       "ENSMUSG00000118651.1   11    14    12     7     3     5  \n",
       "ENSMUSG00000118652.1    0     0     0     0     0     0  \n",
       "ENSMUSG00000118653.1    1     1     7     5     2     7  \n",
       "ENSMUSG00000118654.1    0     0     0     1     0     0  \n",
       "ENSMUSG00000118655.1    0     0     0     0     1     1  \n",
       "ENSMUSG00000118656.1    0     0     0     0     0     0  \n",
       "ENSMUSG00000118657.1    0     1     0     2     0     4  \n",
       "ENSMUSG00000118658.1    0     0     0     0     0     0  \n",
       "ENSMUSG00000118659.1    0     0     0     0     0     0  "
      ]
     },
     "metadata": {},
     "output_type": "display_data"
    }
   ],
   "source": [
    "counts <- as.matrix(read.table(\"ALL.counts\", header=TRUE, sep=\",\"))\n",
    "counts"
   ]
  },
  {
   "cell_type": "code",
   "execution_count": 10,
   "metadata": {
    "colab": {
     "base_uri": "https://localhost:8080/",
     "height": 286
    },
    "id": "UTpoN13_v2Rs",
    "outputId": "20a0eeab-0bcb-414c-ca4d-95dae5a4fbc5",
    "vscode": {
     "languageId": "r"
    }
   },
   "outputs": [
    {
     "data": {
      "text/html": [
       "<table class=\"dataframe\">\n",
       "<caption>A data.frame: 6 × 3</caption>\n",
       "<thead>\n",
       "\t<tr><th scope=col>X</th><th scope=col>id</th><th scope=col>condition</th></tr>\n",
       "\t<tr><th scope=col>&lt;chr&gt;</th><th scope=col>&lt;chr&gt;</th><th scope=col>&lt;chr&gt;</th></tr>\n",
       "</thead>\n",
       "<tbody>\n",
       "\t<tr><td>c1</td><td>SRR3414635</td><td>control      </td></tr>\n",
       "\t<tr><td>c2</td><td>SRR3414636</td><td>control      </td></tr>\n",
       "\t<tr><td>c3</td><td>SRR3414637</td><td>control      </td></tr>\n",
       "\t<tr><td>r1</td><td>SRR3414629</td><td>reprogramming</td></tr>\n",
       "\t<tr><td>r2</td><td>SRR3414630</td><td>reprogramming</td></tr>\n",
       "\t<tr><td>r3</td><td>SRR3414631</td><td>reprogramming</td></tr>\n",
       "</tbody>\n",
       "</table>\n"
      ],
      "text/latex": [
       "A data.frame: 6 × 3\n",
       "\\begin{tabular}{lll}\n",
       " X & id & condition\\\\\n",
       " <chr> & <chr> & <chr>\\\\\n",
       "\\hline\n",
       "\t c1 & SRR3414635 & control      \\\\\n",
       "\t c2 & SRR3414636 & control      \\\\\n",
       "\t c3 & SRR3414637 & control      \\\\\n",
       "\t r1 & SRR3414629 & reprogramming\\\\\n",
       "\t r2 & SRR3414630 & reprogramming\\\\\n",
       "\t r3 & SRR3414631 & reprogramming\\\\\n",
       "\\end{tabular}\n"
      ],
      "text/markdown": [
       "\n",
       "A data.frame: 6 × 3\n",
       "\n",
       "| X &lt;chr&gt; | id &lt;chr&gt; | condition &lt;chr&gt; |\n",
       "|---|---|---|\n",
       "| c1 | SRR3414635 | control       |\n",
       "| c2 | SRR3414636 | control       |\n",
       "| c3 | SRR3414637 | control       |\n",
       "| r1 | SRR3414629 | reprogramming |\n",
       "| r2 | SRR3414630 | reprogramming |\n",
       "| r3 | SRR3414631 | reprogramming |\n",
       "\n"
      ],
      "text/plain": [
       "  X  id         condition    \n",
       "1 c1 SRR3414635 control      \n",
       "2 c2 SRR3414636 control      \n",
       "3 c3 SRR3414637 control      \n",
       "4 r1 SRR3414629 reprogramming\n",
       "5 r2 SRR3414630 reprogramming\n",
       "6 r3 SRR3414631 reprogramming"
      ]
     },
     "metadata": {},
     "output_type": "display_data"
    }
   ],
   "source": [
    "info   <- read.table(\"ALL.info\", header=TRUE, sep=\",\")\n",
    "info"
   ]
  },
  {
   "cell_type": "code",
   "execution_count": 11,
   "metadata": {
    "colab": {
     "base_uri": "https://localhost:8080/"
    },
    "id": "Wc2zW9Trvz77",
    "outputId": "27e407d5-bd49-4c1c-bf71-b6cf06db5089",
    "vscode": {
     "languageId": "r"
    }
   },
   "outputs": [
    {
     "name": "stderr",
     "output_type": "stream",
     "text": [
      "Warning message in DESeqDataSet(se, design = design, ignoreRank):\n",
      "“some variables in design formula are characters, converting to factors”\n"
     ]
    }
   ],
   "source": [
    "dds <- DESeqDataSetFromMatrix(countData = counts, colData = info, design = ~ condition)"
   ]
  },
  {
   "cell_type": "code",
   "execution_count": 12,
   "metadata": {
    "colab": {
     "base_uri": "https://localhost:8080/",
     "height": 286
    },
    "id": "FtM-Pup8Afu5",
    "outputId": "ff0c055a-62f1-41d7-e2a1-ca0cc4f52af7",
    "vscode": {
     "languageId": "r"
    }
   },
   "outputs": [
    {
     "data": {
      "text/html": [
       "<table class=\"dataframe\">\n",
       "<caption>A data.frame: 6 × 3</caption>\n",
       "<thead>\n",
       "\t<tr><th></th><th scope=col>X</th><th scope=col>id</th><th scope=col>condition</th></tr>\n",
       "\t<tr><th></th><th scope=col>&lt;chr&gt;</th><th scope=col>&lt;chr&gt;</th><th scope=col>&lt;chr&gt;</th></tr>\n",
       "</thead>\n",
       "<tbody>\n",
       "\t<tr><th scope=row>1</th><td>c1</td><td>SRR3414635</td><td>control      </td></tr>\n",
       "\t<tr><th scope=row>2</th><td>c2</td><td>SRR3414636</td><td>control      </td></tr>\n",
       "\t<tr><th scope=row>3</th><td>c3</td><td>SRR3414637</td><td>control      </td></tr>\n",
       "\t<tr><th scope=row>4</th><td>r1</td><td>SRR3414629</td><td>reprogramming</td></tr>\n",
       "\t<tr><th scope=row>5</th><td>r2</td><td>SRR3414630</td><td>reprogramming</td></tr>\n",
       "\t<tr><th scope=row>6</th><td>r3</td><td>SRR3414631</td><td>reprogramming</td></tr>\n",
       "</tbody>\n",
       "</table>\n"
      ],
      "text/latex": [
       "A data.frame: 6 × 3\n",
       "\\begin{tabular}{r|lll}\n",
       "  & X & id & condition\\\\\n",
       "  & <chr> & <chr> & <chr>\\\\\n",
       "\\hline\n",
       "\t1 & c1 & SRR3414635 & control      \\\\\n",
       "\t2 & c2 & SRR3414636 & control      \\\\\n",
       "\t3 & c3 & SRR3414637 & control      \\\\\n",
       "\t4 & r1 & SRR3414629 & reprogramming\\\\\n",
       "\t5 & r2 & SRR3414630 & reprogramming\\\\\n",
       "\t6 & r3 & SRR3414631 & reprogramming\\\\\n",
       "\\end{tabular}\n"
      ],
      "text/markdown": [
       "\n",
       "A data.frame: 6 × 3\n",
       "\n",
       "| <!--/--> | X &lt;chr&gt; | id &lt;chr&gt; | condition &lt;chr&gt; |\n",
       "|---|---|---|---|\n",
       "| 1 | c1 | SRR3414635 | control       |\n",
       "| 2 | c2 | SRR3414636 | control       |\n",
       "| 3 | c3 | SRR3414637 | control       |\n",
       "| 4 | r1 | SRR3414629 | reprogramming |\n",
       "| 5 | r2 | SRR3414630 | reprogramming |\n",
       "| 6 | r3 | SRR3414631 | reprogramming |\n",
       "\n"
      ],
      "text/plain": [
       "  X  id         condition    \n",
       "1 c1 SRR3414635 control      \n",
       "2 c2 SRR3414636 control      \n",
       "3 c3 SRR3414637 control      \n",
       "4 r1 SRR3414629 reprogramming\n",
       "5 r2 SRR3414630 reprogramming\n",
       "6 r3 SRR3414631 reprogramming"
      ]
     },
     "metadata": {},
     "output_type": "display_data"
    }
   ],
   "source": [
    "head(info)"
   ]
  },
  {
   "cell_type": "code",
   "execution_count": 13,
   "metadata": {
    "colab": {
     "base_uri": "https://localhost:8080/",
     "height": 255
    },
    "id": "TBxTARCLewJf",
    "outputId": "2c2e6e55-9900-48cd-8ff5-64d5e81e81e9",
    "vscode": {
     "languageId": "r"
    }
   },
   "outputs": [
    {
     "data": {
      "text/html": [
       "<table class=\"dataframe\">\n",
       "<caption>A matrix: 6 × 6 of type int</caption>\n",
       "<thead>\n",
       "\t<tr><th></th><th scope=col>c1</th><th scope=col>c2</th><th scope=col>c3</th><th scope=col>r1</th><th scope=col>r2</th><th scope=col>r3</th></tr>\n",
       "</thead>\n",
       "<tbody>\n",
       "\t<tr><th scope=row>ENSMUSG00000000001.4</th><td> 3466</td><td> 3532</td><td> 4078</td><td> 4507</td><td> 3964</td><td> 5757</td></tr>\n",
       "\t<tr><th scope=row>ENSMUSG00000000003.15</th><td>    0</td><td>    0</td><td>    0</td><td>    0</td><td>    0</td><td>    0</td></tr>\n",
       "\t<tr><th scope=row>ENSMUSG00000000028.15</th><td>  152</td><td>  137</td><td>  152</td><td>  348</td><td>  275</td><td>  472</td></tr>\n",
       "\t<tr><th scope=row>ENSMUSG00000000031.16</th><td>55721</td><td>48392</td><td>56187</td><td>64722</td><td>33333</td><td>65188</td></tr>\n",
       "\t<tr><th scope=row>ENSMUSG00000000037.17</th><td>   43</td><td>   44</td><td>   53</td><td>   79</td><td>   70</td><td>   92</td></tr>\n",
       "\t<tr><th scope=row>ENSMUSG00000000049.11</th><td>   10</td><td>    8</td><td>   11</td><td>    4</td><td>    1</td><td>    1</td></tr>\n",
       "</tbody>\n",
       "</table>\n"
      ],
      "text/latex": [
       "A matrix: 6 × 6 of type int\n",
       "\\begin{tabular}{r|llllll}\n",
       "  & c1 & c2 & c3 & r1 & r2 & r3\\\\\n",
       "\\hline\n",
       "\tENSMUSG00000000001.4 &  3466 &  3532 &  4078 &  4507 &  3964 &  5757\\\\\n",
       "\tENSMUSG00000000003.15 &     0 &     0 &     0 &     0 &     0 &     0\\\\\n",
       "\tENSMUSG00000000028.15 &   152 &   137 &   152 &   348 &   275 &   472\\\\\n",
       "\tENSMUSG00000000031.16 & 55721 & 48392 & 56187 & 64722 & 33333 & 65188\\\\\n",
       "\tENSMUSG00000000037.17 &    43 &    44 &    53 &    79 &    70 &    92\\\\\n",
       "\tENSMUSG00000000049.11 &    10 &     8 &    11 &     4 &     1 &     1\\\\\n",
       "\\end{tabular}\n"
      ],
      "text/markdown": [
       "\n",
       "A matrix: 6 × 6 of type int\n",
       "\n",
       "| <!--/--> | c1 | c2 | c3 | r1 | r2 | r3 |\n",
       "|---|---|---|---|---|---|---|\n",
       "| ENSMUSG00000000001.4 |  3466 |  3532 |  4078 |  4507 |  3964 |  5757 |\n",
       "| ENSMUSG00000000003.15 |     0 |     0 |     0 |     0 |     0 |     0 |\n",
       "| ENSMUSG00000000028.15 |   152 |   137 |   152 |   348 |   275 |   472 |\n",
       "| ENSMUSG00000000031.16 | 55721 | 48392 | 56187 | 64722 | 33333 | 65188 |\n",
       "| ENSMUSG00000000037.17 |    43 |    44 |    53 |    79 |    70 |    92 |\n",
       "| ENSMUSG00000000049.11 |    10 |     8 |    11 |     4 |     1 |     1 |\n",
       "\n"
      ],
      "text/plain": [
       "                      c1    c2    c3    r1    r2    r3   \n",
       "ENSMUSG00000000001.4   3466  3532  4078  4507  3964  5757\n",
       "ENSMUSG00000000003.15     0     0     0     0     0     0\n",
       "ENSMUSG00000000028.15   152   137   152   348   275   472\n",
       "ENSMUSG00000000031.16 55721 48392 56187 64722 33333 65188\n",
       "ENSMUSG00000000037.17    43    44    53    79    70    92\n",
       "ENSMUSG00000000049.11    10     8    11     4     1     1"
      ]
     },
     "metadata": {},
     "output_type": "display_data"
    }
   ],
   "source": [
    "head(counts)"
   ]
  },
  {
   "cell_type": "markdown",
   "metadata": {
    "id": "4hP2FLvm6xlK"
   },
   "source": [
    "##С помощью DESeq получаем в res таблицу с дифференуциально экспрессированными генами"
   ]
  },
  {
   "cell_type": "code",
   "execution_count": 14,
   "metadata": {
    "colab": {
     "base_uri": "https://localhost:8080/"
    },
    "id": "zGNnfTWYAkvS",
    "outputId": "244d8faa-bb94-4dd4-d679-d474524c4b2a",
    "vscode": {
     "languageId": "r"
    }
   },
   "outputs": [
    {
     "name": "stderr",
     "output_type": "stream",
     "text": [
      "estimating size factors\n",
      "\n",
      "estimating dispersions\n",
      "\n",
      "gene-wise dispersion estimates\n",
      "\n",
      "mean-dispersion relationship\n",
      "\n",
      "final dispersion estimates\n",
      "\n",
      "fitting model and testing\n",
      "\n"
     ]
    }
   ],
   "source": [
    "# Tell the DDS which columns correspond to the 'reference' level of gene expression\n",
    "dds$condition <- relevel(dds$condition, ref=\"control\")\n",
    "\n",
    "dds <- DESeq(dds)\n",
    "res <- results(dds, alpha=0.01)   # Specify a more strict threshold on padj. This threshold is called 'alpha'\n"
   ]
  },
  {
   "cell_type": "markdown",
   "metadata": {
    "id": "xb-u7m1B76cJ"
   },
   "source": [
    "## Строим Heatmap для уровня экспрессии образцов и еще один график с дифференциально экспрессированными генами"
   ]
  },
  {
   "cell_type": "code",
   "execution_count": 15,
   "metadata": {
    "colab": {
     "base_uri": "https://localhost:8080/",
     "height": 437
    },
    "id": "_U4_9cJZArWm",
    "outputId": "df8f7382-297b-4450-8ba1-b805b213af4e",
    "vscode": {
     "languageId": "r"
    }
   },
   "outputs": [
    {
     "data": {
      "image/png": "[encoded data removed]",
      "text/plain": [
       "plot without title"
      ]
     },
     "metadata": {
      "image/png": {
       "height": 420,
       "width": 420
      }
     },
     "output_type": "display_data"
    }
   ],
   "source": [
    "rld <- rlog(dds)\n",
    "sampleDists <- dist(t(assay(rld)))\n",
    "sampleDistMatrix <- as.matrix(sampleDists)\n",
    "pheatmap(sampleDistMatrix, clustering_distance_rows=sampleDists, clustering_distance_cols=sampleDists)\n"
   ]
  },
  {
   "cell_type": "code",
   "execution_count": 16,
   "metadata": {
    "id": "nh6z7TvDAu_x",
    "vscode": {
     "languageId": "r"
    }
   },
   "outputs": [],
   "source": [
    "resOrdered <- res[order(res$padj),]\n",
    "resSignificant <- subset(resOrdered, padj < 0.01)\n",
    "write.table(resSignificant, \"differentially_expressed_genes.txt\", sep=\"\\t\", row.names=TRUE, quote = FALSE)"
   ]
  },
  {
   "cell_type": "code",
   "execution_count": 17,
   "metadata": {
    "colab": {
     "base_uri": "https://localhost:8080/",
     "height": 437
    },
    "id": "-xg0Vr8rAyhQ",
    "outputId": "49f749fe-0b64-43c1-8579-1219814098fd",
    "vscode": {
     "languageId": "r"
    }
   },
   "outputs": [
    {
     "data": {
      "image/png": "[encoded data removed]",
      "text/plain": [
       "Plot with title “”"
      ]
     },
     "metadata": {
      "image/png": {
       "height": 420,
       "width": 420
      }
     },
     "output_type": "display_data"
    }
   ],
   "source": [
    "plotMA(res, ylim=c(-10,10))"
   ]
  },
  {
   "cell_type": "markdown",
   "metadata": {
    "id": "gEecXwr88c9R"
   },
   "source": [
    "##И еще один Heatmap с условиями для дифференциально экспрессированных генов"
   ]
  },
  {
   "cell_type": "code",
   "execution_count": 18,
   "metadata": {
    "colab": {
     "base_uri": "https://localhost:8080/",
     "height": 437
    },
    "id": "dRPKldloA8z2",
    "outputId": "edae8e1f-2020-4c95-af5f-0add2ff4d9fc",
    "vscode": {
     "languageId": "r"
    }
   },
   "outputs": [
    {
     "data": {
      "image/png": "[encoded data removed]",
      "text/plain": [
       "plot without title"
      ]
     },
     "metadata": {
      "image/png": {
       "height": 420,
       "width": 420
      }
     },
     "output_type": "display_data"
    }
   ],
   "source": [
    "select <- order(rowMeans(counts(dds,normalized=TRUE)),decreasing=TRUE)[1:20]\n",
    "df <- as.data.frame(colData(dds)[,c(\"condition\",\"id\")])\n",
    "pheatmap(assay(rld)[select,], cluster_rows=FALSE, show_rownames=FALSE,cluster_cols=FALSE, annotation_col=df)\n"
   ]
  },
  {
   "cell_type": "markdown",
   "metadata": {
    "id": "UVLe8O7O8tj3"
   },
   "source": [
    "## И на графиках еще проверим, действительно ли гены являются дифференциально экспрессированными (отображаем два условия и смотрим на число счетов)"
   ]
  },
  {
   "cell_type": "code",
   "execution_count": 19,
   "metadata": {
    "colab": {
     "base_uri": "https://localhost:8080/",
     "height": 602
    },
    "id": "xq7Y3x9_BEDq",
    "outputId": "84bce48b-2392-4f13-a50c-3e6eaab0ce82",
    "vscode": {
     "languageId": "r"
    }
   },
   "outputs": [
    {
     "data": {
      "text/plain": [
       "log2 fold change (MLE): condition reprogramming vs control \n",
       "Wald test p-value: condition reprogramming vs control \n",
       "DataFrame with 1 row and 6 columns\n",
       "                      baseMean log2FoldChange     lfcSE      stat       pvalue\n",
       "                     <numeric>      <numeric> <numeric> <numeric>    <numeric>\n",
       "ENSMUSG00000035557.9   5647.17        11.8829  0.493665   24.0708 5.06065e-128\n",
       "                             padj\n",
       "                        <numeric>\n",
       "ENSMUSG00000035557.9 2.05373e-125"
      ]
     },
     "metadata": {},
     "output_type": "display_data"
    },
    {
     "data": {
      "image/png": "[encoded data removed]",
      "text/plain": [
       "Plot with title “ENSMUSG00000035557.9”"
      ]
     },
     "metadata": {
      "image/png": {
       "height": 420,
       "width": 420
      }
     },
     "output_type": "display_data"
    }
   ],
   "source": [
    "res[10072,]\n",
    "plotCounts(dds, gene=10072, intgroup=\"condition\")"
   ]
  },
  {
   "cell_type": "code",
   "execution_count": 20,
   "metadata": {
    "colab": {
     "base_uri": "https://localhost:8080/",
     "height": 602
    },
    "id": "gTtzCWIRDYc4",
    "outputId": "798cfac2-9964-4859-b27d-9bbb3b7d64c8",
    "vscode": {
     "languageId": "r"
    }
   },
   "outputs": [
    {
     "data": {
      "text/plain": [
       "log2 fold change (MLE): condition reprogramming vs control \n",
       "Wald test p-value: condition reprogramming vs control \n",
       "DataFrame with 1 row and 6 columns\n",
       "                       baseMean log2FoldChange     lfcSE      stat      pvalue\n",
       "                      <numeric>      <numeric> <numeric> <numeric>   <numeric>\n",
       "ENSMUSG00000040728.15   422.308        12.1686   1.18742    10.248 1.20858e-24\n",
       "                             padj\n",
       "                        <numeric>\n",
       "ENSMUSG00000040728.15 3.11507e-23"
      ]
     },
     "metadata": {},
     "output_type": "display_data"
    },
    {
     "data": {
      "image/png": "[encoded data removed]",
      "text/plain": [
       "Plot with title “ENSMUSG00000040728.15”"
      ]
     },
     "metadata": {
      "image/png": {
       "height": 420,
       "width": 420
      }
     },
     "output_type": "display_data"
    }
   ],
   "source": [
    "res[12032,]\n",
    "plotCounts(dds, gene=12032, intgroup=\"condition\")"
   ]
  },
  {
   "cell_type": "code",
   "execution_count": 21,
   "metadata": {
    "colab": {
     "base_uri": "https://localhost:8080/",
     "height": 602
    },
    "id": "-y8sAPAcD0Ca",
    "outputId": "0a9236d5-6be5-40f6-bb64-66275f744676",
    "vscode": {
     "languageId": "r"
    }
   },
   "outputs": [
    {
     "data": {
      "text/plain": [
       "log2 fold change (MLE): condition reprogramming vs control \n",
       "Wald test p-value: condition reprogramming vs control \n",
       "DataFrame with 1 row and 6 columns\n",
       "                       baseMean log2FoldChange     lfcSE      stat      pvalue\n",
       "                      <numeric>      <numeric> <numeric> <numeric>   <numeric>\n",
       "ENSMUSG00000046180.11   297.237        11.6622   1.19426   9.76522 1.58762e-22\n",
       "                             padj\n",
       "                        <numeric>\n",
       "ENSMUSG00000046180.11 3.62682e-21"
      ]
     },
     "metadata": {},
     "output_type": "display_data"
    },
    {
     "data": {
      "image/png": "[encoded data removed]",
      "text/plain": [
       "Plot with title “ENSMUSG00000046180.11”"
      ]
     },
     "metadata": {
      "image/png": {
       "height": 420,
       "width": 420
      }
     },
     "output_type": "display_data"
    }
   ],
   "source": [
    "res[13630,]\n",
    "plotCounts(dds, gene=13630, intgroup=\"condition\")"
   ]
  },
  {
   "cell_type": "markdown",
   "metadata": {
    "id": "hLaaCx5gEKYq"
   },
   "source": [
    "В итоге видим, что получились сильно разбросанные точки у контрольных и перепрограммированых генов"
   ]
  },
  {
   "cell_type": "code",
   "execution_count": 22,
   "metadata": {
    "id": "CWlvIHcE5ilY",
    "vscode": {
     "languageId": "r"
    }
   },
   "outputs": [],
   "source": []
  }
 ],
 "metadata": {
  "colab": {
   "provenance": []
  },
  "kernelspec": {
   "display_name": "R",
   "name": "ir"
  },
  "language_info": {
   "name": "R"
  }
 },
 "nbformat": 4,
 "nbformat_minor": 0
}
